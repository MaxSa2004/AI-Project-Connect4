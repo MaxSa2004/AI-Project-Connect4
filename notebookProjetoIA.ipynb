{
 "cells": [
  {
   "cell_type": "markdown",
   "id": "72eabc55",
   "metadata": {},
   "source": [
    "# **Projeto IA - Connect 4**"
   ]
  },
  {
   "cell_type": "markdown",
   "id": "ff24bf4f",
   "metadata": {},
   "source": [
    "### Membros do Grupo:\n",
    "- Maximiliano Vítor Phillips e Sá (up202305979)\n",
    "- Orlando Miguel Carvalho-Soares (up202303606)\n",
    "- Rui Jorge Pereira Rua (up202305259)"
   ]
  },
  {
   "cell_type": "markdown",
   "id": "706e63d5",
   "metadata": {},
   "source": [
    "## Índice\n",
    "1. Introdução\n",
    "2. Código Universal\n",
    "3. Game Modes\n",
    "    - Humano x Humano\n",
    "    - Humano x Computador\n",
    "    - Computador x Computador\n"
   ]
  },
  {
   "cell_type": "markdown",
   "id": "6e77d208",
   "metadata": {},
   "source": [
    "## 1. Introdução"
   ]
  },
  {
   "cell_type": "markdown",
   "id": "3084530a",
   "metadata": {},
   "source": [
    "Este projeto tem como objetivo desenvolver e implementar um programa capaz de jogar 'Connect-4' com um humano. O programa tem 3 modos: Humano-Humano, Humano-Computador e Computador-Computador. O programa utiliza um algoritmo MCTS no modo Humano-Computador e os algoritmos MCTS e Árvores de Decisão usando o procedimento ID3 no modo Computador-Computador.\n"
   ]
  },
  {
   "cell_type": "markdown",
   "id": "aa35620f",
   "metadata": {},
   "source": [
    "## 2. Código Universal"
   ]
  },
  {
   "cell_type": "markdown",
   "id": "6d9477ef",
   "metadata": {},
   "source": [
    "meta.py"
   ]
  },
  {
   "cell_type": "code",
   "execution_count": null,
   "id": "13279571",
   "metadata": {},
   "outputs": [],
   "source": [
    "import math\n",
    "\n",
    "#meta dados relativos ao jogo\n",
    "class GameMeta:\n",
    "    PLAYERS = {'none': 0, 'one': 1, 'two': 2}\n",
    "    OUTCOMES = {'none': 0, 'one': 1, 'two': 2, 'draw': 3}\n",
    "    INF = float('inf')\n",
    "    ROWS = 6\n",
    "    COLS = 7\n",
    "    GAMEMODE = None\n",
    "\n",
    "#valor C do UCB\n",
    "class MCTSMeta:\n",
    "    C = math.sqrt(2)\n"
   ]
  },
  {
   "cell_type": "markdown",
   "id": "b0f67f48",
   "metadata": {},
   "source": [
    "ConnectState.py"
   ]
  },
  {
   "cell_type": "code",
   "execution_count": null,
   "id": "2b38235f",
   "metadata": {},
   "outputs": [],
   "source": [
    "from copy import deepcopy\n",
    "import numpy as np\n",
    "from meta import GameMeta\n",
    "\n",
    "\n",
    "class ConnectState:\n",
    "    '''\n",
    "        Construtor do board e de alguns metadados sobre o estado atual. \n",
    "        Ex: jogador atual, jogada anterior, altura de cada coluna (height[col] = 0 -> coluna col cheia)\n",
    "    '''\n",
    "\n",
    "    def __init__(self):\n",
    "        self.board = [[0] * GameMeta.COLS for _ in range(GameMeta.ROWS)]\n",
    "        self.to_play = GameMeta.PLAYERS['one']\n",
    "        self.height = [GameMeta.ROWS - 1] * GameMeta.COLS\n",
    "        self.last_played = []\n",
    "\n",
    "    #retorna uma cópia do estado atual\n",
    "    def get_board(self):\n",
    "        return deepcopy(self.board)\n",
    "    \n",
    "    #dá print_board ao board atual na consola\n",
    "    def print_board(self):\n",
    "        print('=============================')\n",
    "\n",
    "        for row in range(GameMeta.ROWS):\n",
    "            for col in range(GameMeta.COLS):\n",
    "                print('| {} '.format('X' if self.board[row][col] == 1 else 'O' if self.board[row][col] == 2 else ' '), end='')\n",
    "            print('|')\n",
    "\n",
    "        print('=============================')\n",
    "        print('  1   2   3   4   5   6   7')\n",
    "\n",
    "    #marca a jogada escolhida pelo jogador no board, e dá update a alguns metadados do estado atual\n",
    "    def move(self, col):\n",
    "        self.board[self.height[col]][col] = self.to_play\n",
    "        self.last_played = [self.height[col], col]\n",
    "        self.height[col] -= 1\n",
    "        self.to_play = GameMeta.PLAYERS['two'] if self.to_play == GameMeta.PLAYERS['one'] else GameMeta.PLAYERS['one']\n",
    "\n",
    "    #retorna uma lista com as jogadas que ainda não estão cheias (height[col] != 0)\n",
    "    def get_legal_moves(self):\n",
    "        return [col for col in range(GameMeta.COLS) if self.board[0][col] == 0]\n",
    "\n",
    "    #verfica se há vencedor e retorna o seu número (X = 1 ; O = 2), se não houver retorna 0\n",
    "    def check_win(self):\n",
    "        if len(self.last_played) > 0 and self.check_win_from(self.last_played[0], self.last_played[1]):\n",
    "            return self.board[self.last_played[0]][self.last_played[1]]\n",
    "        return 0\n",
    "\n",
    "    def check_win_from(self, row, col):\n",
    "        player = self.board[row][col]\n",
    "        \"\"\"\n",
    "        Ultima jogada realizada está na posição (row, col)\n",
    "        Verificar a grid 6x7 à volta à procura de um vencedor\n",
    "        \"\"\"\n",
    "\n",
    "        consecutive = 1\n",
    "        # verificar horizontal\n",
    "        tmprow = row\n",
    "        while tmprow + 1 < GameMeta.ROWS and self.board[tmprow + 1][col] == player:\n",
    "            consecutive += 1\n",
    "            tmprow += 1\n",
    "        tmprow = row\n",
    "        while tmprow - 1 >= 0 and self.board[tmprow - 1][col] == player:\n",
    "            consecutive += 1\n",
    "            tmprow -= 1\n",
    "\n",
    "        if consecutive >= 4:\n",
    "            return True\n",
    "\n",
    "        # verificar vertical\n",
    "        consecutive = 1\n",
    "        tmpcol = col\n",
    "        while tmpcol + 1 < GameMeta.COLS and self.board[row][tmpcol + 1] == player:\n",
    "            consecutive += 1\n",
    "            tmpcol += 1\n",
    "        tmpcol = col\n",
    "        while tmpcol - 1 >= 0 and self.board[row][tmpcol - 1] == player:\n",
    "            consecutive += 1\n",
    "            tmpcol -= 1\n",
    "\n",
    "        if consecutive >= 4:\n",
    "            return True\n",
    "\n",
    "        # verificar diagonal1\n",
    "        consecutive = 1\n",
    "        tmprow = row\n",
    "        tmpcol = col\n",
    "        while tmprow + 1 < GameMeta.ROWS and tmpcol + 1 < GameMeta.COLS and self.board[tmprow + 1][tmpcol + 1] == player:\n",
    "            consecutive += 1\n",
    "            tmprow += 1\n",
    "            tmpcol += 1\n",
    "        tmprow = row\n",
    "        tmpcol = col\n",
    "        while tmprow - 1 >= 0 and tmpcol - 1 >= 0 and self.board[tmprow - 1][tmpcol - 1] == player:\n",
    "            consecutive += 1\n",
    "            tmprow -= 1\n",
    "            tmpcol -= 1\n",
    "\n",
    "        if consecutive >= 4:\n",
    "            return True\n",
    "\n",
    "        # verificar diagonal2\n",
    "        consecutive = 1\n",
    "        tmprow = row\n",
    "        tmpcol = col\n",
    "        while tmprow + 1 < GameMeta.ROWS and tmpcol - 1 >= 0 and self.board[tmprow + 1][tmpcol - 1] == player:\n",
    "            consecutive += 1\n",
    "            tmprow += 1\n",
    "            tmpcol -= 1\n",
    "        tmprow = row\n",
    "        tmpcol = col\n",
    "        while tmprow - 1 >= 0 and tmpcol + 1 < GameMeta.COLS and self.board[tmprow - 1][tmpcol + 1] == player:\n",
    "            consecutive += 1\n",
    "            tmprow -= 1\n",
    "            tmpcol += 1\n",
    "\n",
    "        if consecutive >= 4:\n",
    "            return True\n",
    "\n",
    "        return False\n",
    "\n",
    "    #verifica se o jogo já acabou verificando se há vencedor ou se ainda existem jogadas possíveis\n",
    "    def game_over(self):\n",
    "        return self.check_win() or len(self.get_legal_moves()) == 0\n",
    "\n",
    "    #verifica quem ganhou ou se é empate\n",
    "    def get_result(self):\n",
    "        if len(self.get_legal_moves()) == 0 and self.check_win() == 0:\n",
    "            return GameMeta.OUTCOMES['draw']\n",
    "\n",
    "        return GameMeta.OUTCOMES['one'] if self.check_win() == GameMeta.PLAYERS['one'] else GameMeta.OUTCOMES['two']\n",
    "\n"
   ]
  },
  {
   "cell_type": "markdown",
   "id": "8d2d67e6",
   "metadata": {},
   "source": [
    "## 3. Game Modes"
   ]
  }
 ],
 "metadata": {
  "kernelspec": {
   "display_name": "Python 3",
   "language": "python",
   "name": "python3"
  },
  "language_info": {
   "name": "python",
   "version": "3.10.12"
  }
 },
 "nbformat": 4,
 "nbformat_minor": 5
}
