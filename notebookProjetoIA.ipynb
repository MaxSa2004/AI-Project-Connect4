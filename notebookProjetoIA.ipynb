{
 "cells": [
  {
   "cell_type": "markdown",
   "id": "72eabc55",
   "metadata": {},
   "source": [
    "# **Projeto IA - Connect 4**"
   ]
  },
  {
   "cell_type": "markdown",
   "id": "ff24bf4f",
   "metadata": {},
   "source": [
    "### Membros do Grupo:\n",
    "- Maximiliano Vítor Phillips e Sá (up202305979)\n",
    "- Orlando Miguel Carvalho-Soares (up202303606)\n",
    "- Rui Jorge Pereira Rua (up202305259)"
   ]
  },
  {
   "cell_type": "markdown",
   "id": "706e63d5",
   "metadata": {},
   "source": [
    "## Índice\n",
    "1. Introdução\n",
    "2. Código Universal\n",
    "3. Game Modes\n",
    "    - Humano x Humano\n",
    "    - Humano x Computador\n",
    "    - Computador x Computador\n"
   ]
  },
  {
   "cell_type": "markdown",
   "id": "6e77d208",
   "metadata": {},
   "source": [
    "## 1. Introdução"
   ]
  },
  {
   "cell_type": "markdown",
   "id": "3084530a",
   "metadata": {},
   "source": [
    "Este projeto tem como objetivo desenvolver e implementar um programa capaz de jogar 'Connect-4' com um humano. O programa tem 3 modos: Humano-Humano, Humano-Computador e Computador-Computador. O programa utiliza um algoritmo MCTS no modo Humano-Computador e os algoritmos MCTS e Árvores de Decisão usando o procedimento ID3 no modo Computador-Computador.\n"
   ]
  },
  {
   "cell_type": "markdown",
   "id": "aa35620f",
   "metadata": {},
   "source": [
    "## 2. Código Universal"
   ]
  },
  {
   "cell_type": "markdown",
   "id": "b0f67f48",
   "metadata": {},
   "source": [
    "Descrição...."
   ]
  },
  {
   "cell_type": "markdown",
   "id": "8d2d67e6",
   "metadata": {},
   "source": [
    "## 3. Game Modes"
   ]
  }
 ],
 "metadata": {
  "language_info": {
   "name": "python"
  }
 },
 "nbformat": 4,
 "nbformat_minor": 5
}
