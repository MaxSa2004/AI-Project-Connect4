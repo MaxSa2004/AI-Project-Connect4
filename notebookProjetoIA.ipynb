{
 "cells": [
  {
   "cell_type": "markdown",
   "id": "72eabc55",
   "metadata": {},
   "source": [
    "<h1><b><u>Projeto IA - Connect 4</u></b></h1>"
   ]
  },
  {
   "cell_type": "markdown",
   "id": "ff24bf4f",
   "metadata": {},
   "source": [
    "<h3>Membros do Grupo:</h3>\n",
    "<p>Maximiliano Vítor Phillips e Sá (up202305979)</p>\n",
    "<p>Orlando Miguel Carvalho-Soares (up202303606)</p>\n",
    "<p>Rui Jorge Pereira Rua (up202305259)</p>"
   ]
  },
  {
   "cell_type": "markdown",
   "id": "e08171ef",
   "metadata": {},
   "source": []
  }
 ],
 "metadata": {
  "language_info": {
   "name": "python"
  }
 },
 "nbformat": 4,
 "nbformat_minor": 5
}
